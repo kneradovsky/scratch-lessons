{
    "cells": [
        {
            "cell_type": "code",
            "execution_count": 1,
            "source": [
                "\n"
            ],
            "outputs": [
                {
                    "output_type": "stream",
                    "name": "stdout",
                    "text": [
                        "Requirement already satisfied: mobilechelonian in /usr/local/Caskroom/miniforge/base/envs/jupyter/lib/python3.9/site-packages (0.5)\n",
                        "Requirement already satisfied: IPython in /usr/local/Caskroom/miniforge/base/envs/jupyter/lib/python3.9/site-packages (from mobilechelonian) (7.24.1)\n",
                        "Requirement already satisfied: ipywidgets>=7.0.0 in /usr/local/Caskroom/miniforge/base/envs/jupyter/lib/python3.9/site-packages (from mobilechelonian) (7.6.4)\n",
                        "Requirement already satisfied: widgetsnbextension~=3.5.0 in /usr/local/Caskroom/miniforge/base/envs/jupyter/lib/python3.9/site-packages (from ipywidgets>=7.0.0->mobilechelonian) (3.5.1)\n",
                        "Requirement already satisfied: ipython-genutils~=0.2.0 in /usr/local/Caskroom/miniforge/base/envs/jupyter/lib/python3.9/site-packages (from ipywidgets>=7.0.0->mobilechelonian) (0.2.0)\n",
                        "Requirement already satisfied: jupyterlab-widgets>=1.0.0 in /usr/local/Caskroom/miniforge/base/envs/jupyter/lib/python3.9/site-packages (from ipywidgets>=7.0.0->mobilechelonian) (1.0.1)\n",
                        "Requirement already satisfied: nbformat>=4.2.0 in /usr/local/Caskroom/miniforge/base/envs/jupyter/lib/python3.9/site-packages (from ipywidgets>=7.0.0->mobilechelonian) (5.1.3)\n",
                        "Requirement already satisfied: traitlets>=4.3.1 in /usr/local/Caskroom/miniforge/base/envs/jupyter/lib/python3.9/site-packages (from ipywidgets>=7.0.0->mobilechelonian) (5.0.5)\n",
                        "Requirement already satisfied: ipykernel>=4.5.1 in /usr/local/Caskroom/miniforge/base/envs/jupyter/lib/python3.9/site-packages (from ipywidgets>=7.0.0->mobilechelonian) (5.5.5)\n",
                        "Requirement already satisfied: tornado>=4.2 in /usr/local/Caskroom/miniforge/base/envs/jupyter/lib/python3.9/site-packages (from ipykernel>=4.5.1->ipywidgets>=7.0.0->mobilechelonian) (6.1)\n",
                        "Requirement already satisfied: appnope in /usr/local/Caskroom/miniforge/base/envs/jupyter/lib/python3.9/site-packages (from ipykernel>=4.5.1->ipywidgets>=7.0.0->mobilechelonian) (0.1.2)\n",
                        "Requirement already satisfied: jupyter-client in /usr/local/Caskroom/miniforge/base/envs/jupyter/lib/python3.9/site-packages (from ipykernel>=4.5.1->ipywidgets>=7.0.0->mobilechelonian) (6.1.12)\n",
                        "Requirement already satisfied: pygments in /usr/local/Caskroom/miniforge/base/envs/jupyter/lib/python3.9/site-packages (from IPython->mobilechelonian) (2.9.0)\n",
                        "Requirement already satisfied: backcall in /usr/local/Caskroom/miniforge/base/envs/jupyter/lib/python3.9/site-packages (from IPython->mobilechelonian) (0.2.0)\n",
                        "Requirement already satisfied: pexpect>4.3 in /usr/local/Caskroom/miniforge/base/envs/jupyter/lib/python3.9/site-packages (from IPython->mobilechelonian) (4.8.0)\n",
                        "Requirement already satisfied: jedi>=0.16 in /usr/local/Caskroom/miniforge/base/envs/jupyter/lib/python3.9/site-packages (from IPython->mobilechelonian) (0.18.0)\n",
                        "Requirement already satisfied: prompt-toolkit!=3.0.0,!=3.0.1,<3.1.0,>=2.0.0 in /usr/local/Caskroom/miniforge/base/envs/jupyter/lib/python3.9/site-packages (from IPython->mobilechelonian) (3.0.18)\n",
                        "Requirement already satisfied: matplotlib-inline in /usr/local/Caskroom/miniforge/base/envs/jupyter/lib/python3.9/site-packages (from IPython->mobilechelonian) (0.1.2)\n",
                        "Requirement already satisfied: setuptools>=18.5 in /usr/local/Caskroom/miniforge/base/envs/jupyter/lib/python3.9/site-packages (from IPython->mobilechelonian) (49.6.0.post20210108)\n",
                        "Requirement already satisfied: decorator in /usr/local/Caskroom/miniforge/base/envs/jupyter/lib/python3.9/site-packages (from IPython->mobilechelonian) (5.0.9)\n",
                        "Requirement already satisfied: pickleshare in /usr/local/Caskroom/miniforge/base/envs/jupyter/lib/python3.9/site-packages (from IPython->mobilechelonian) (0.7.5)\n",
                        "Requirement already satisfied: parso<0.9.0,>=0.8.0 in /usr/local/Caskroom/miniforge/base/envs/jupyter/lib/python3.9/site-packages (from jedi>=0.16->IPython->mobilechelonian) (0.8.2)\n",
                        "Requirement already satisfied: jsonschema!=2.5.0,>=2.4 in /usr/local/Caskroom/miniforge/base/envs/jupyter/lib/python3.9/site-packages (from nbformat>=4.2.0->ipywidgets>=7.0.0->mobilechelonian) (3.2.0)\n",
                        "Requirement already satisfied: jupyter-core in /usr/local/Caskroom/miniforge/base/envs/jupyter/lib/python3.9/site-packages (from nbformat>=4.2.0->ipywidgets>=7.0.0->mobilechelonian) (4.7.1)\n",
                        "Requirement already satisfied: attrs>=17.4.0 in /usr/local/Caskroom/miniforge/base/envs/jupyter/lib/python3.9/site-packages (from jsonschema!=2.5.0,>=2.4->nbformat>=4.2.0->ipywidgets>=7.0.0->mobilechelonian) (21.2.0)\n",
                        "Requirement already satisfied: six>=1.11.0 in /usr/local/Caskroom/miniforge/base/envs/jupyter/lib/python3.9/site-packages (from jsonschema!=2.5.0,>=2.4->nbformat>=4.2.0->ipywidgets>=7.0.0->mobilechelonian) (1.16.0)\n",
                        "Requirement already satisfied: pyrsistent>=0.14.0 in /usr/local/Caskroom/miniforge/base/envs/jupyter/lib/python3.9/site-packages (from jsonschema!=2.5.0,>=2.4->nbformat>=4.2.0->ipywidgets>=7.0.0->mobilechelonian) (0.17.3)\n",
                        "Requirement already satisfied: ptyprocess>=0.5 in /usr/local/Caskroom/miniforge/base/envs/jupyter/lib/python3.9/site-packages (from pexpect>4.3->IPython->mobilechelonian) (0.7.0)\n",
                        "Requirement already satisfied: wcwidth in /usr/local/Caskroom/miniforge/base/envs/jupyter/lib/python3.9/site-packages (from prompt-toolkit!=3.0.0,!=3.0.1,<3.1.0,>=2.0.0->IPython->mobilechelonian) (0.2.5)\n",
                        "Requirement already satisfied: notebook>=4.4.1 in /usr/local/Caskroom/miniforge/base/envs/jupyter/lib/python3.9/site-packages (from widgetsnbextension~=3.5.0->ipywidgets>=7.0.0->mobilechelonian) (6.4.0)\n",
                        "Requirement already satisfied: nbconvert in /usr/local/Caskroom/miniforge/base/envs/jupyter/lib/python3.9/site-packages (from notebook>=4.4.1->widgetsnbextension~=3.5.0->ipywidgets>=7.0.0->mobilechelonian) (6.0.7)\n",
                        "Requirement already satisfied: argon2-cffi in /usr/local/Caskroom/miniforge/base/envs/jupyter/lib/python3.9/site-packages (from notebook>=4.4.1->widgetsnbextension~=3.5.0->ipywidgets>=7.0.0->mobilechelonian) (20.1.0)\n",
                        "Requirement already satisfied: prometheus-client in /usr/local/Caskroom/miniforge/base/envs/jupyter/lib/python3.9/site-packages (from notebook>=4.4.1->widgetsnbextension~=3.5.0->ipywidgets>=7.0.0->mobilechelonian) (0.11.0)\n",
                        "Requirement already satisfied: jinja2 in /usr/local/Caskroom/miniforge/base/envs/jupyter/lib/python3.9/site-packages (from notebook>=4.4.1->widgetsnbextension~=3.5.0->ipywidgets>=7.0.0->mobilechelonian) (3.0.1)\n",
                        "Requirement already satisfied: Send2Trash>=1.5.0 in /usr/local/Caskroom/miniforge/base/envs/jupyter/lib/python3.9/site-packages (from notebook>=4.4.1->widgetsnbextension~=3.5.0->ipywidgets>=7.0.0->mobilechelonian) (1.5.0)\n",
                        "Requirement already satisfied: terminado>=0.8.3 in /usr/local/Caskroom/miniforge/base/envs/jupyter/lib/python3.9/site-packages (from notebook>=4.4.1->widgetsnbextension~=3.5.0->ipywidgets>=7.0.0->mobilechelonian) (0.10.0)\n",
                        "Requirement already satisfied: pyzmq>=17 in /usr/local/Caskroom/miniforge/base/envs/jupyter/lib/python3.9/site-packages (from notebook>=4.4.1->widgetsnbextension~=3.5.0->ipywidgets>=7.0.0->mobilechelonian) (22.1.0)\n",
                        "Requirement already satisfied: python-dateutil>=2.1 in /usr/local/Caskroom/miniforge/base/envs/jupyter/lib/python3.9/site-packages (from jupyter-client->ipykernel>=4.5.1->ipywidgets>=7.0.0->mobilechelonian) (2.8.1)\n",
                        "Requirement already satisfied: cffi>=1.0.0 in /usr/local/Caskroom/miniforge/base/envs/jupyter/lib/python3.9/site-packages (from argon2-cffi->notebook>=4.4.1->widgetsnbextension~=3.5.0->ipywidgets>=7.0.0->mobilechelonian) (1.14.5)\n",
                        "Requirement already satisfied: pycparser in /usr/local/Caskroom/miniforge/base/envs/jupyter/lib/python3.9/site-packages (from cffi>=1.0.0->argon2-cffi->notebook>=4.4.1->widgetsnbextension~=3.5.0->ipywidgets>=7.0.0->mobilechelonian) (2.20)\n",
                        "Requirement already satisfied: MarkupSafe>=2.0 in /usr/local/Caskroom/miniforge/base/envs/jupyter/lib/python3.9/site-packages (from jinja2->notebook>=4.4.1->widgetsnbextension~=3.5.0->ipywidgets>=7.0.0->mobilechelonian) (2.0.1)\n",
                        "Requirement already satisfied: entrypoints>=0.2.2 in /usr/local/Caskroom/miniforge/base/envs/jupyter/lib/python3.9/site-packages (from nbconvert->notebook>=4.4.1->widgetsnbextension~=3.5.0->ipywidgets>=7.0.0->mobilechelonian) (0.3)\n",
                        "Requirement already satisfied: bleach in /usr/local/Caskroom/miniforge/base/envs/jupyter/lib/python3.9/site-packages (from nbconvert->notebook>=4.4.1->widgetsnbextension~=3.5.0->ipywidgets>=7.0.0->mobilechelonian) (3.3.0)\n",
                        "Requirement already satisfied: testpath in /usr/local/Caskroom/miniforge/base/envs/jupyter/lib/python3.9/site-packages (from nbconvert->notebook>=4.4.1->widgetsnbextension~=3.5.0->ipywidgets>=7.0.0->mobilechelonian) (0.5.0)\n",
                        "Requirement already satisfied: nbclient<0.6.0,>=0.5.0 in /usr/local/Caskroom/miniforge/base/envs/jupyter/lib/python3.9/site-packages (from nbconvert->notebook>=4.4.1->widgetsnbextension~=3.5.0->ipywidgets>=7.0.0->mobilechelonian) (0.5.3)\n",
                        "Requirement already satisfied: mistune<2,>=0.8.1 in /usr/local/Caskroom/miniforge/base/envs/jupyter/lib/python3.9/site-packages (from nbconvert->notebook>=4.4.1->widgetsnbextension~=3.5.0->ipywidgets>=7.0.0->mobilechelonian) (0.8.4)\n",
                        "Requirement already satisfied: defusedxml in /usr/local/Caskroom/miniforge/base/envs/jupyter/lib/python3.9/site-packages (from nbconvert->notebook>=4.4.1->widgetsnbextension~=3.5.0->ipywidgets>=7.0.0->mobilechelonian) (0.7.1)\n",
                        "Requirement already satisfied: jupyterlab-pygments in /usr/local/Caskroom/miniforge/base/envs/jupyter/lib/python3.9/site-packages (from nbconvert->notebook>=4.4.1->widgetsnbextension~=3.5.0->ipywidgets>=7.0.0->mobilechelonian) (0.1.2)\n",
                        "Requirement already satisfied: pandocfilters>=1.4.1 in /usr/local/Caskroom/miniforge/base/envs/jupyter/lib/python3.9/site-packages (from nbconvert->notebook>=4.4.1->widgetsnbextension~=3.5.0->ipywidgets>=7.0.0->mobilechelonian) (1.4.2)\n",
                        "Requirement already satisfied: async-generator in /usr/local/Caskroom/miniforge/base/envs/jupyter/lib/python3.9/site-packages (from nbclient<0.6.0,>=0.5.0->nbconvert->notebook>=4.4.1->widgetsnbextension~=3.5.0->ipywidgets>=7.0.0->mobilechelonian) (1.10)\n",
                        "Requirement already satisfied: nest-asyncio in /usr/local/Caskroom/miniforge/base/envs/jupyter/lib/python3.9/site-packages (from nbclient<0.6.0,>=0.5.0->nbconvert->notebook>=4.4.1->widgetsnbextension~=3.5.0->ipywidgets>=7.0.0->mobilechelonian) (1.5.1)\n",
                        "Requirement already satisfied: webencodings in /usr/local/Caskroom/miniforge/base/envs/jupyter/lib/python3.9/site-packages (from bleach->nbconvert->notebook>=4.4.1->widgetsnbextension~=3.5.0->ipywidgets>=7.0.0->mobilechelonian) (0.5.1)\n",
                        "Requirement already satisfied: packaging in /usr/local/Caskroom/miniforge/base/envs/jupyter/lib/python3.9/site-packages (from bleach->nbconvert->notebook>=4.4.1->widgetsnbextension~=3.5.0->ipywidgets>=7.0.0->mobilechelonian) (20.9)\n",
                        "Requirement already satisfied: pyparsing>=2.0.2 in /usr/local/Caskroom/miniforge/base/envs/jupyter/lib/python3.9/site-packages (from packaging->bleach->nbconvert->notebook>=4.4.1->widgetsnbextension~=3.5.0->ipywidgets>=7.0.0->mobilechelonian) (2.4.7)\n",
                        "Note: you may need to restart the kernel to use updated packages.\n"
                    ]
                }
            ],
            "metadata": {}
        },
        {
            "cell_type": "code",
            "execution_count": 2,
            "source": [
                "from ipyturtle import Turtle"
            ],
            "outputs": [],
            "metadata": {}
        },
        {
            "cell_type": "code",
            "execution_count": 3,
            "source": [
                "t = Turtle()\n",
                "t.forward(200)\n",
                "t.left(20)\n",
                "t.forward(200)\n"
            ],
            "outputs": [
                {
                    "output_type": "display_data",
                    "data": {
                        "application/vnd.jupyter.widget-view+json": {
                            "version_major": 2,
                            "version_minor": 0,
                            "model_id": "83e448cb18554fab9ef5d7c4a1c91d64"
                        },
                        "text/plain": [
                            "Turtle()"
                        ]
                    },
                    "metadata": {}
                }
            ],
            "metadata": {}
        }
    ],
    "metadata": {
        "orig_nbformat": 4,
        "language_info": {
            "name": "python",
            "version": "3.9.4",
            "mimetype": "text/x-python",
            "codemirror_mode": {
                "name": "ipython",
                "version": 3
            },
            "pygments_lexer": "ipython3",
            "nbconvert_exporter": "python",
            "file_extension": ".py"
        },
        "kernelspec": {
            "name": "python3",
            "display_name": "Python 3.9.4 64-bit ('jupyter': conda)"
        },
        "interpreter": {
            "hash": "e97fe1e0666cc5cb69c9cf812faddfa0cc5e1aa939aab66325a1608f5c2ef2f0"
        }
    },
    "nbformat": 4,
    "nbformat_minor": 2
}